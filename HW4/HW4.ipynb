{
 "cells": [
  {
   "cell_type": "code",
   "execution_count": 31,
   "metadata": {},
   "outputs": [],
   "source": [
    "import random\n",
    "import numpy as np\n",
    "from qutip import *\n",
    "from qutip.measurement import measure\n",
    "\n",
    "from qiskit.visualization import array_to_latex"
   ]
  },
  {
   "attachments": {},
   "cell_type": "markdown",
   "metadata": {},
   "source": [
    "### Question 1)"
   ]
  },
  {
   "attachments": {},
   "cell_type": "markdown",
   "metadata": {},
   "source": [
    "#### A)"
   ]
  },
  {
   "cell_type": "code",
   "execution_count": 2,
   "metadata": {},
   "outputs": [
    {
     "name": "stdout",
     "output_type": "stream",
     "text": [
      "Our found value of k is 97\n"
     ]
    }
   ],
   "source": [
    "b = 13\n",
    "\n",
    "# Try finding k from 0 to 200\n",
    "for k in range(0, 200):\n",
    "    if (k*b) % 180 == 1:\n",
    "        break\n",
    "print(\"Our found value of k is {}\".format(k))"
   ]
  },
  {
   "attachments": {},
   "cell_type": "markdown",
   "metadata": {},
   "source": [
    "### Question 3)"
   ]
  },
  {
   "cell_type": "code",
   "execution_count": 125,
   "metadata": {},
   "outputs": [],
   "source": [
    "H = ket(\"H\") # horizontal state \n",
    "V = ket(\"V\") # vertical state\n",
    "D = 1/np.sqrt(2) * (H + V) # Diagonal state (+45)\n",
    "A = 1/np.sqrt(2) * (H - V) # Anti-Diagonal state (-45)\n",
    "\n",
    "# Helper function to convert a basis into a string representation\n",
    "def basis_to_str(B):\n",
    "    if B == H:\n",
    "        return \"H\"\n",
    "    elif B == V:\n",
    "        return \"V\"\n",
    "    elif B == D:\n",
    "        return \"D\"\n",
    "    elif B == A:\n",
    "        return \"A\"\n",
    "    else:\n",
    "        return \"UNKNOWN\""
   ]
  },
  {
   "cell_type": "code",
   "execution_count": 70,
   "metadata": {},
   "outputs": [],
   "source": [
    "def GetRandomBasis(N_p, basis_states):\n",
    "    basis = {}\n",
    "    for i in range(1, N_p+1):\n",
    "        basis[i] = random.choice(basis_states)\n",
    "    return basis"
   ]
  },
  {
   "attachments": {},
   "cell_type": "markdown",
   "metadata": {},
   "source": [
    "#### A)"
   ]
  },
  {
   "cell_type": "code",
   "execution_count": 71,
   "metadata": {},
   "outputs": [],
   "source": [
    "# Function modeling Alice sending a message to Bob with N_p number of photons\n",
    "def AliceMessage(N_p, basis):\n",
    "    sent_message = {}\n",
    "    for i in range(1, N_p+1):\n",
    "        sent_message[i] = basis[i]\n",
    "    return sent_message"
   ]
  },
  {
   "attachments": {},
   "cell_type": "markdown",
   "metadata": {},
   "source": [
    "Example of Alice sending 5 photons:"
   ]
  },
  {
   "cell_type": "code",
   "execution_count": 66,
   "metadata": {},
   "outputs": [
    {
     "data": {
      "text/plain": [
       "{1: Quantum object: dims = [[2], [1]], shape = (2, 1), type = ket\n",
       " Qobj data =\n",
       " [[1.]\n",
       "  [0.]],\n",
       " 2: Quantum object: dims = [[2], [1]], shape = (2, 1), type = ket\n",
       " Qobj data =\n",
       " [[0.70710678]\n",
       "  [0.70710678]],\n",
       " 3: Quantum object: dims = [[2], [1]], shape = (2, 1), type = ket\n",
       " Qobj data =\n",
       " [[0.70710678]\n",
       "  [0.70710678]],\n",
       " 4: Quantum object: dims = [[2], [1]], shape = (2, 1), type = ket\n",
       " Qobj data =\n",
       " [[1.]\n",
       "  [0.]],\n",
       " 5: Quantum object: dims = [[2], [1]], shape = (2, 1), type = ket\n",
       " Qobj data =\n",
       " [[0.70710678]\n",
       "  [0.70710678]]}"
      ]
     },
     "execution_count": 66,
     "metadata": {},
     "output_type": "execute_result"
    }
   ],
   "source": [
    "alice_message = AliceMessage(5, GetRandomBasis(5, [H,D]))\n",
    "alice_message"
   ]
  },
  {
   "attachments": {},
   "cell_type": "markdown",
   "metadata": {},
   "source": [
    "#### B)"
   ]
  },
  {
   "cell_type": "code",
   "execution_count": 72,
   "metadata": {},
   "outputs": [
    {
     "name": "stdout",
     "output_type": "stream",
     "text": [
      "{1: Quantum object: dims = [[2], [1]], shape = (2, 1), type = ket\n",
      "Qobj data =\n",
      "[[ 0.70710678]\n",
      " [-0.70710678]], 2: Quantum object: dims = [[2], [1]], shape = (2, 1), type = ket\n",
      "Qobj data =\n",
      "[[ 0.70710678]\n",
      " [-0.70710678]], 3: Quantum object: dims = [[2], [1]], shape = (2, 1), type = ket\n",
      "Qobj data =\n",
      "[[0.]\n",
      " [1.]], 4: Quantum object: dims = [[2], [1]], shape = (2, 1), type = ket\n",
      "Qobj data =\n",
      "[[0.]\n",
      " [1.]], 5: Quantum object: dims = [[2], [1]], shape = (2, 1), type = ket\n",
      "Qobj data =\n",
      "[[0.]\n",
      " [1.]]}\n"
     ]
    }
   ],
   "source": [
    "bob_basis = GetRandomBasis(5, [V,A])\n",
    "print(bob_basis)"
   ]
  },
  {
   "attachments": {},
   "cell_type": "markdown",
   "metadata": {},
   "source": [
    "Now that Bob has a basis, lets create a function that measures Alice's message"
   ]
  },
  {
   "cell_type": "code",
   "execution_count": 110,
   "metadata": {},
   "outputs": [
    {
     "data": {
      "text/plain": [
       "{1: 1, 2: 1, 3: 0, 4: 1, 5: 1}"
      ]
     },
     "execution_count": 110,
     "metadata": {},
     "output_type": "execute_result"
    }
   ],
   "source": [
    "def BobReceiveMessage(N_p, message, measurement_basis):\n",
    "    measurements = {}\n",
    "    for i in range(1, N_p+1):\n",
    "        # Create a density matrix out of our basix \n",
    "        cur_basis_op = ket2dm(measurement_basis[i])\n",
    "\n",
    "        # Measure the projected eigen value/state with the given basis\n",
    "        eigen_val, eigen_state = measure(message[i], cur_basis_op)\n",
    "        measurements[i] = round(eigen_val)\n",
    "    return measurements\n",
    "\n",
    "BobReceiveMessage(5, alice_message, bob_basis)"
   ]
  },
  {
   "attachments": {},
   "cell_type": "markdown",
   "metadata": {},
   "source": [
    "#### C)"
   ]
  },
  {
   "attachments": {},
   "cell_type": "markdown",
   "metadata": {},
   "source": [
    "First, lets generate an 100 photon message from Alice and have Bob measure it with a randomly chosen basis"
   ]
  },
  {
   "cell_type": "code",
   "execution_count": 135,
   "metadata": {},
   "outputs": [],
   "source": [
    "N_p = 100\n",
    "alice_basis = GetRandomBasis(N_p, [H,D])\n",
    "alice_message = AliceMessage(N_p, alice_basis)\n",
    "bob_basis = GetRandomBasis(N_p, [V,A])\n",
    "bob_measurements = BobReceiveMessage(N_p, alice_message, bob_basis)"
   ]
  },
  {
   "attachments": {},
   "cell_type": "markdown",
   "metadata": {},
   "source": [
    "Now, lets display all of the states Bob got a 'click' with"
   ]
  },
  {
   "cell_type": "code",
   "execution_count": 136,
   "metadata": {},
   "outputs": [
    {
     "name": "stdout",
     "output_type": "stream",
     "text": [
      "Bob got click for photon 05 with basis A. Sent bit was 0.\n",
      "Bob got click for photon 06 with basis A. Sent bit was 0.\n",
      "Bob got click for photon 09 with basis V. Sent bit was 1.\n",
      "Bob got click for photon 14 with basis V. Sent bit was 1.\n",
      "Bob got click for photon 17 with basis V. Sent bit was 1.\n",
      "Bob got click for photon 18 with basis V. Sent bit was 1.\n",
      "Bob got click for photon 20 with basis V. Sent bit was 1.\n",
      "Bob got click for photon 21 with basis A. Sent bit was 0.\n",
      "Bob got click for photon 38 with basis V. Sent bit was 1.\n",
      "Bob got click for photon 40 with basis A. Sent bit was 0.\n",
      "Bob got click for photon 41 with basis A. Sent bit was 0.\n",
      "Bob got click for photon 42 with basis V. Sent bit was 1.\n",
      "Bob got click for photon 43 with basis V. Sent bit was 1.\n",
      "Bob got click for photon 45 with basis A. Sent bit was 0.\n",
      "Bob got click for photon 51 with basis V. Sent bit was 1.\n",
      "Bob got click for photon 54 with basis A. Sent bit was 0.\n",
      "Bob got click for photon 58 with basis A. Sent bit was 0.\n",
      "Bob got click for photon 71 with basis A. Sent bit was 0.\n",
      "Bob got click for photon 73 with basis V. Sent bit was 1.\n",
      "Bob got click for photon 74 with basis A. Sent bit was 0.\n",
      "Bob got click for photon 80 with basis A. Sent bit was 0.\n",
      "Bob got click for photon 91 with basis V. Sent bit was 1.\n",
      "Bob got click for photon 95 with basis V. Sent bit was 1.\n",
      "Bob got click for photon 99 with basis A. Sent bit was 0.\n",
      "Bob got click for photon 100 with basis A. Sent bit was 0.\n",
      "\n",
      "Number of correct bits Bob recieved: 25\n"
     ]
    }
   ],
   "source": [
    "def GetCorrectBits(bob_measurements, bob_basis):\n",
    "    correct_bits = []\n",
    "    for i in range(1, N_p+1):\n",
    "        if bob_measurements[i] == 1:\n",
    "            bit = 1 if bob_basis[i] == V else 0\n",
    "            correct_bits.append(bit)\n",
    "            print(\"Bob got click for photon {:02d} with basis {}. Sent bit was {}.\".format(i, basis_to_str(bob_basis[i]), bit))\n",
    "\n",
    "    print(\"\\nNumber of correct bits Bob recieved: {}\".format(len(correct_bits)))\n",
    "    return correct_bits\n",
    "\n",
    "correct_bits = GetCorrectBits(bob_measurements, bob_basis)"
   ]
  },
  {
   "attachments": {},
   "cell_type": "markdown",
   "metadata": {},
   "source": [
    "Cool! Now Bob can broadcast his basis to Alice and she'll know which of her bits were sent correctly. We also see that the accepted error rate is roughly 25% for B92.\n",
    "\n",
    " Lets now assume they create a private key from the first half of the correct bits. This corresponds to:"
   ]
  },
  {
   "cell_type": "code",
   "execution_count": 137,
   "metadata": {},
   "outputs": [
    {
     "data": {
      "text/plain": [
       "[0, 0, 1, 1, 1, 1, 1, 0, 1, 0, 0, 1]"
      ]
     },
     "execution_count": 137,
     "metadata": {},
     "output_type": "execute_result"
    }
   ],
   "source": [
    "correct_bits[:len(correct_bits)//2]"
   ]
  },
  {
   "attachments": {},
   "cell_type": "markdown",
   "metadata": {},
   "source": [
    "#### D)"
   ]
  },
  {
   "attachments": {},
   "cell_type": "markdown",
   "metadata": {},
   "source": [
    "Eve knows for sure what state Alice must've sent if she gets a click. If she gets no click, however, then the best she can do is just randomly send either a 0 or 1"
   ]
  },
  {
   "cell_type": "code",
   "execution_count": 118,
   "metadata": {},
   "outputs": [],
   "source": [
    "def Eavesdrop(N_p, message, measurement_basis):\n",
    "    eve_message = {}\n",
    "    measurements = {}\n",
    "    for i in range(1, N_p+1):\n",
    "        # Create a density matrix out of our basix \n",
    "        cur_basis_op = ket2dm(measurement_basis[i])\n",
    "\n",
    "        # Measure the projected eigen value/state with the given basis\n",
    "        eigen_val, eigen_state = measure(message[i], cur_basis_op)\n",
    "        measurements[i] = round(eigen_val)\n",
    "\n",
    "        # Got a click. We for sure know the state\n",
    "        if measurements[i] == 1:\n",
    "            if measurement_basis[i] == V:\n",
    "                eve_message[i] = D\n",
    "            else:\n",
    "                eve_message[i] = H\n",
    "        # Don't have a click, so we pick randomly\n",
    "        elif measurements[i] == 0:\n",
    "            eve_message[i] = random.choice([H, D])\n",
    "\n",
    "    return eve_message"
   ]
  },
  {
   "attachments": {},
   "cell_type": "markdown",
   "metadata": {},
   "source": [
    "#### E)"
   ]
  },
  {
   "cell_type": "code",
   "execution_count": 119,
   "metadata": {},
   "outputs": [],
   "source": [
    "N_p = 100\n",
    "alice_basis = GetRandomBasis(N_p, [H,D])\n",
    "alice_message = AliceMessage(N_p, alice_basis)\n",
    "\n",
    "eve_basis = GetRandomBasis(N_p, [V,A])\n",
    "eve_message = Eavesdrop(N_p, alice_message, eve_basis)\n",
    "\n",
    "bob_basis = GetRandomBasis(N_p, [V,A])\n",
    "bob_measurements = BobReceiveMessage(N_p, eve_basis, bob_basis)"
   ]
  },
  {
   "cell_type": "code",
   "execution_count": 120,
   "metadata": {},
   "outputs": [
    {
     "name": "stdout",
     "output_type": "stream",
     "text": [
      "Bob got click for photon 03 with basis V. Sent bit was 1.\n",
      "Bob got click for photon 06 with basis V. Sent bit was 1.\n",
      "Bob got click for photon 10 with basis A. Sent bit was 0.\n",
      "Bob got click for photon 13 with basis V. Sent bit was 1.\n",
      "Bob got click for photon 15 with basis A. Sent bit was 0.\n",
      "Bob got click for photon 16 with basis V. Sent bit was 1.\n",
      "Bob got click for photon 17 with basis A. Sent bit was 0.\n",
      "Bob got click for photon 18 with basis V. Sent bit was 1.\n",
      "Bob got click for photon 19 with basis A. Sent bit was 0.\n",
      "Bob got click for photon 20 with basis V. Sent bit was 1.\n",
      "Bob got click for photon 21 with basis V. Sent bit was 1.\n",
      "Bob got click for photon 24 with basis A. Sent bit was 0.\n",
      "Bob got click for photon 25 with basis A. Sent bit was 0.\n",
      "Bob got click for photon 26 with basis A. Sent bit was 0.\n",
      "Bob got click for photon 28 with basis A. Sent bit was 0.\n",
      "Bob got click for photon 29 with basis A. Sent bit was 0.\n",
      "Bob got click for photon 30 with basis A. Sent bit was 0.\n",
      "Bob got click for photon 31 with basis A. Sent bit was 0.\n",
      "Bob got click for photon 32 with basis A. Sent bit was 0.\n",
      "Bob got click for photon 34 with basis A. Sent bit was 0.\n",
      "Bob got click for photon 35 with basis V. Sent bit was 1.\n",
      "Bob got click for photon 36 with basis V. Sent bit was 1.\n",
      "Bob got click for photon 37 with basis A. Sent bit was 0.\n",
      "Bob got click for photon 38 with basis A. Sent bit was 0.\n",
      "Bob got click for photon 39 with basis V. Sent bit was 1.\n",
      "Bob got click for photon 40 with basis V. Sent bit was 1.\n",
      "Bob got click for photon 41 with basis V. Sent bit was 1.\n",
      "Bob got click for photon 42 with basis A. Sent bit was 0.\n",
      "Bob got click for photon 43 with basis V. Sent bit was 1.\n",
      "Bob got click for photon 44 with basis V. Sent bit was 1.\n",
      "Bob got click for photon 46 with basis A. Sent bit was 0.\n",
      "Bob got click for photon 47 with basis A. Sent bit was 0.\n",
      "Bob got click for photon 48 with basis V. Sent bit was 1.\n",
      "Bob got click for photon 49 with basis V. Sent bit was 1.\n",
      "Bob got click for photon 50 with basis V. Sent bit was 1.\n",
      "Bob got click for photon 52 with basis V. Sent bit was 1.\n",
      "Bob got click for photon 53 with basis V. Sent bit was 1.\n",
      "Bob got click for photon 54 with basis V. Sent bit was 1.\n",
      "Bob got click for photon 55 with basis V. Sent bit was 1.\n",
      "Bob got click for photon 56 with basis A. Sent bit was 0.\n",
      "Bob got click for photon 58 with basis V. Sent bit was 1.\n",
      "Bob got click for photon 60 with basis A. Sent bit was 0.\n",
      "Bob got click for photon 61 with basis V. Sent bit was 1.\n",
      "Bob got click for photon 63 with basis A. Sent bit was 0.\n",
      "Bob got click for photon 64 with basis V. Sent bit was 1.\n",
      "Bob got click for photon 66 with basis V. Sent bit was 1.\n",
      "Bob got click for photon 67 with basis V. Sent bit was 1.\n",
      "Bob got click for photon 68 with basis V. Sent bit was 1.\n",
      "Bob got click for photon 70 with basis V. Sent bit was 1.\n",
      "Bob got click for photon 71 with basis V. Sent bit was 1.\n",
      "Bob got click for photon 72 with basis V. Sent bit was 1.\n",
      "Bob got click for photon 73 with basis V. Sent bit was 1.\n",
      "Bob got click for photon 74 with basis A. Sent bit was 0.\n",
      "Bob got click for photon 75 with basis V. Sent bit was 1.\n",
      "Bob got click for photon 76 with basis V. Sent bit was 1.\n",
      "Bob got click for photon 78 with basis A. Sent bit was 0.\n",
      "Bob got click for photon 79 with basis A. Sent bit was 0.\n",
      "Bob got click for photon 80 with basis V. Sent bit was 1.\n",
      "Bob got click for photon 81 with basis A. Sent bit was 0.\n",
      "Bob got click for photon 83 with basis A. Sent bit was 0.\n",
      "Bob got click for photon 85 with basis A. Sent bit was 0.\n",
      "Bob got click for photon 86 with basis V. Sent bit was 1.\n",
      "Bob got click for photon 87 with basis V. Sent bit was 1.\n",
      "Bob got click for photon 88 with basis A. Sent bit was 0.\n",
      "Bob got click for photon 89 with basis A. Sent bit was 0.\n",
      "Bob got click for photon 90 with basis V. Sent bit was 1.\n",
      "Bob got click for photon 91 with basis V. Sent bit was 1.\n",
      "Bob got click for photon 92 with basis A. Sent bit was 0.\n",
      "Bob got click for photon 93 with basis V. Sent bit was 1.\n",
      "Bob got click for photon 95 with basis V. Sent bit was 1.\n",
      "Bob got click for photon 97 with basis A. Sent bit was 0.\n",
      "Bob got click for photon 98 with basis V. Sent bit was 1.\n",
      "Bob got click for photon 100 with basis A. Sent bit was 0.\n",
      "\n",
      "Number of correct bits Bob recieved: 73\n"
     ]
    }
   ],
   "source": [
    "correct_bits = GetCorrectBits(bob_measurements, bob_basis)"
   ]
  },
  {
   "attachments": {},
   "cell_type": "markdown",
   "metadata": {},
   "source": [
    "#### F)"
   ]
  },
  {
   "attachments": {},
   "cell_type": "markdown",
   "metadata": {},
   "source": [
    "Lets attempt to improve our eavesdropping. This can simply be done by having Eve measure in Alice's basis instead of in Bob's basis. If she sucessfully measures in the parallel basis to the incoming state, she's gaurunteed to get a click and knows the state. If she gets a 0, then she just simply sends a random state. This will significantly decrease our error rate down to roughly 25%."
   ]
  },
  {
   "cell_type": "code",
   "execution_count": 147,
   "metadata": {},
   "outputs": [],
   "source": [
    "def Eavesdrop_Improved(N_p, message, measurement_basis):\n",
    "    eve_message = {}\n",
    "    measurements = {}\n",
    "    for i in range(1, N_p+1):\n",
    "        # Create a density matrix out of our basix \n",
    "        cur_basis_op = ket2dm(measurement_basis[i])\n",
    "\n",
    "        # Measure the projected eigen value/state with the given basis\n",
    "        eigen_val, eigen_state = measure(message[i], cur_basis_op)\n",
    "        measurements[i] = round(eigen_val)\n",
    "\n",
    "        # Got a click. We for sure know the state\n",
    "        if measurements[i] == 1:\n",
    "            if measurement_basis[i] == D:\n",
    "                eve_message[i] = D\n",
    "            else:\n",
    "                eve_message[i] = H\n",
    "        # Don't have a click, so we pick randomly\n",
    "        elif measurements[i] == 0:\n",
    "            eve_message[i] = random.choice([H, D])\n",
    "\n",
    "    return eve_message"
   ]
  },
  {
   "cell_type": "code",
   "execution_count": 148,
   "metadata": {},
   "outputs": [],
   "source": [
    "N_p = 1000\n",
    "alice_basis = GetRandomBasis(N_p, [H,D])\n",
    "alice_message = AliceMessage(N_p, alice_basis)\n",
    "\n",
    "eve_basis = GetRandomBasis(N_p, [H,D])\n",
    "eve_message = Eavesdrop_Improved(N_p, alice_message, eve_basis)\n",
    "\n",
    "bob_basis = GetRandomBasis(N_p, [V,A])\n",
    "bob_measurements = BobReceiveMessage(N_p, eve_basis, bob_basis)"
   ]
  },
  {
   "cell_type": "code",
   "execution_count": 146,
   "metadata": {},
   "outputs": [
    {
     "name": "stdout",
     "output_type": "stream",
     "text": [
      "Bob got click for photon 05 with basis V. Sent bit was 1.\n",
      "Bob got click for photon 13 with basis V. Sent bit was 1.\n",
      "Bob got click for photon 20 with basis V. Sent bit was 1.\n",
      "Bob got click for photon 22 with basis A. Sent bit was 0.\n",
      "Bob got click for photon 23 with basis V. Sent bit was 1.\n",
      "Bob got click for photon 24 with basis V. Sent bit was 1.\n",
      "Bob got click for photon 26 with basis A. Sent bit was 0.\n",
      "Bob got click for photon 31 with basis V. Sent bit was 1.\n",
      "Bob got click for photon 32 with basis A. Sent bit was 0.\n",
      "Bob got click for photon 40 with basis V. Sent bit was 1.\n",
      "Bob got click for photon 41 with basis V. Sent bit was 1.\n",
      "Bob got click for photon 43 with basis A. Sent bit was 0.\n",
      "Bob got click for photon 45 with basis V. Sent bit was 1.\n",
      "Bob got click for photon 49 with basis V. Sent bit was 1.\n",
      "Bob got click for photon 58 with basis V. Sent bit was 1.\n",
      "Bob got click for photon 65 with basis V. Sent bit was 1.\n",
      "Bob got click for photon 73 with basis V. Sent bit was 1.\n",
      "Bob got click for photon 76 with basis V. Sent bit was 1.\n",
      "Bob got click for photon 77 with basis V. Sent bit was 1.\n",
      "Bob got click for photon 78 with basis V. Sent bit was 1.\n",
      "Bob got click for photon 81 with basis A. Sent bit was 0.\n",
      "Bob got click for photon 85 with basis V. Sent bit was 1.\n",
      "Bob got click for photon 89 with basis V. Sent bit was 1.\n",
      "Bob got click for photon 97 with basis V. Sent bit was 1.\n",
      "Bob got click for photon 100 with basis V. Sent bit was 1.\n",
      "\n",
      "Number of correct bits Bob recieved: 25\n"
     ]
    }
   ],
   "source": [
    "correct_bits = GetCorrectBits(bob_measurements, bob_basis)"
   ]
  }
 ],
 "metadata": {
  "kernelspec": {
   "display_name": "Python 3",
   "language": "python",
   "name": "python3"
  },
  "language_info": {
   "codemirror_mode": {
    "name": "ipython",
    "version": 3
   },
   "file_extension": ".py",
   "mimetype": "text/x-python",
   "name": "python",
   "nbconvert_exporter": "python",
   "pygments_lexer": "ipython3",
   "version": "3.10.9"
  },
  "orig_nbformat": 4,
  "vscode": {
   "interpreter": {
    "hash": "e7370f93d1d0cde622a1f8e1c04877d8463912d04d973331ad4851f04de6915a"
   }
  }
 },
 "nbformat": 4,
 "nbformat_minor": 2
}
