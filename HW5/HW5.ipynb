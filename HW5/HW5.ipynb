{
 "cells": [
  {
   "cell_type": "code",
   "execution_count": 1,
   "metadata": {},
   "outputs": [],
   "source": [
    "import random\n",
    "import numpy as np\n",
    "from qutip import *\n",
    "from qutip.measurement import measure\n",
    "\n",
    "from qiskit.visualization import array_to_latex"
   ]
  },
  {
   "cell_type": "code",
   "execution_count": 20,
   "metadata": {},
   "outputs": [],
   "source": [
    "H = ket(\"H\") # horizontal state \n",
    "V = ket(\"V\") # vertical state\n",
    "D = 1/np.sqrt(2) * (H + V) # Diagonal state (+45)\n",
    "A = 1/np.sqrt(2) * (H - V) # Anti-Diagonal state (-45)\n",
    "\n",
    "# Helper function to convert a basis into a string representation\n",
    "def basis_to_str(B):\n",
    "    if B == H:\n",
    "        return \"H\"\n",
    "    elif B == V:\n",
    "        return \"V\"\n",
    "    elif B == D:\n",
    "        return \"D\"\n",
    "    elif B == A:\n",
    "        return \"A\"\n",
    "    else:\n",
    "        return \"UNKNOWN\""
   ]
  },
  {
   "cell_type": "code",
   "execution_count": 203,
   "metadata": {},
   "outputs": [],
   "source": [
    "class DecoyProtocol():\n",
    "    def __init__(self, num_photons, frequency):\n",
    "        self.num_photons = num_photons\n",
    "        self.frequency = frequency"
   ]
  },
  {
   "cell_type": "code",
   "execution_count": 234,
   "metadata": {},
   "outputs": [],
   "source": [
    "def GetCorrectBits(N_p, bob_measurements, bob_basis, alice_basis, decoy_protocol=None):\n",
    "    bob_measured_bits = []\n",
    "    num_correct = 0\n",
    "    num_incorrect = 0\n",
    "    num_decoys = 0 \n",
    "    for i in range(1, N_p+1):\n",
    "        if decoy_protocol != None and i % decoy_protocol.frequency == 0 and bob_measurements[i][0] == 1 and bob_measurements[i][1] > 0:\n",
    "            num_decoys += 1\n",
    "            continue\n",
    "\n",
    "        inner_product = (bob_basis[i].dag() * alice_basis[i])[0]\n",
    "        if bob_measurements[i][0] == 1:\n",
    "            bit = 1 if bob_basis[i] == V else 0\n",
    "\n",
    "            print(\"Bob got click for photon {:02d} with basis {}. Sent bit was {}.\".format(i, basis_to_str(bob_basis[i]), bit))\n",
    "            # Check if the bases are orthogonal. If so, then the measurement is incorrect\n",
    "            print(\"Inner product of Bob's basis and Alice's basis: {}\".format(inner_product))\n",
    "            if inner_product > 0:\n",
    "                bob_measured_bits.append(bit)\n",
    "                num_correct += 1\n",
    "                print(\"This measurement is correct.\\n\")\n",
    "            else:\n",
    "                num_incorrect += 1\n",
    "                print(\"This measurement is incorrect.\\n\")\n",
    "\n",
    "\n",
    "    print(f\"\\nBob recieved {num_correct} correct bits and {num_incorrect} incorrect bits.\")\n",
    "    print(f\"Error rate: {np.abs(num_correct - num_incorrect) / (num_correct + num_incorrect)}\")\n",
    "    print(f\"Bob's Efficiency: {((num_correct + num_incorrect) / N_p * 10)})\") # 10% of the photons are lost\n",
    "    if decoy_protocol != None:\n",
    "        print(f\"Number of decoys: {num_decoys}\")\n",
    "        print(f\"Decoy Efficiency: {num_decoys / (N_p / decoy_protocol.frequency)}\")\n",
    "    return bob_measured_bits"
   ]
  },
  {
   "cell_type": "code",
   "execution_count": 220,
   "metadata": {},
   "outputs": [],
   "source": [
    "def GetRandomBasis(N_p, basis_states):\n",
    "    basis = {}\n",
    "    for i in range(1, N_p+1):\n",
    "        basis[i] = random.choice(basis_states)\n",
    "    return basis"
   ]
  },
  {
   "cell_type": "code",
   "execution_count": 207,
   "metadata": {},
   "outputs": [],
   "source": [
    "# Function modeling Alice sending a message to Bob with N_p number of photons\n",
    "def AliceMessage(N_p, basis, p2, decoy_protocol=None):\n",
    "    sent_message = {}\n",
    "    for i in range(1, N_p+1):\n",
    "        num_photons_emitted = 0\n",
    "\n",
    "        # Send decoy protocol photons at the given frequency\n",
    "        if decoy_protocol != None and i % decoy_protocol.frequency == 0:\n",
    "            num_photons_emitted = decoy_protocol.num_photons\n",
    "        else:\n",
    "            num_photons_emitted = 2 if random.uniform(0,1) <= p2 else 1\n",
    "        sent_message[i] = (basis[i], num_photons_emitted)\n",
    "    return sent_message"
   ]
  },
  {
   "cell_type": "code",
   "execution_count": 208,
   "metadata": {},
   "outputs": [],
   "source": [
    "def BobReceiveMessage(N_p, message, measurement_basis, efficiency, decoy_protocol=None):\n",
    "    measurements = {}\n",
    "    for i in range(1, N_p+1):\n",
    "        # First, check if we recieve the photon at all\n",
    "        if message[i][0] == None or message[i][1] <= 0:\n",
    "            measurements[i] = (0,0)\n",
    "            continue\n",
    "\n",
    "        # Check protocol\n",
    "        if decoy_protocol != None and i % decoy_protocol.frequency == 0:\n",
    "\n",
    "            num_decoy_photons = message[i][1] * efficiency\n",
    "            # Check that our decoy protocol photon count passes the efficiency threshold\n",
    "            if(num_decoy_photons> 0):\n",
    "                measurements[i] = (1, num_decoy_photons)\n",
    "            else:\n",
    "                measurements[i] = (0, 0)\n",
    "            continue\n",
    "\n",
    "        # Only recieve photons with a given efficiency\n",
    "        if random.uniform(0,1) <= efficiency:\n",
    "            # Create a density matrix out of our basix \n",
    "            cur_basis_op = ket2dm(measurement_basis[i])\n",
    "\n",
    "            # Measure the projected eigen value/state with the given basis\n",
    "            eigen_val, eigen_state = measure(message[i][0], cur_basis_op)\n",
    "            measurements[i] = (round(eigen_val), message[i][1])\n",
    "        else:\n",
    "            # If we don't recieve the photon, then we measure 0\n",
    "            measurements[i] = (0, 0)\n",
    "\n",
    "    return measurements"
   ]
  },
  {
   "cell_type": "code",
   "execution_count": 210,
   "metadata": {},
   "outputs": [],
   "source": [
    "def Eavesdrop(N_p, message, measurement_basis):\n",
    "    eve_message = {}\n",
    "    measurements = {}\n",
    "    for i in range(1, N_p+1):\n",
    "        # Create a density matrix out of our basix \n",
    "        cur_basis_op = ket2dm(measurement_basis[i])\n",
    "\n",
    "        # Measure the projected eigen value/state with the given basis\n",
    "        eigen_val, eigen_state = measure(message[i][0], cur_basis_op)\n",
    "        measurements[i] = round(eigen_val)\n",
    "\n",
    "        photon_num = message[i][1]\n",
    "\n",
    "        # Case where eve splits photons\n",
    "        if photon_num > 1:\n",
    "            eve_message[i] = (message[i][0], photon_num - 1)\n",
    "        else:\n",
    "            # Got a click. We for sure know the state\n",
    "            if measurements[i] == 1:\n",
    "                if measurement_basis[i] == V:\n",
    "                    eve_message[i] = (D, photon_num)\n",
    "                else:\n",
    "                    eve_message[i] = (H, photon_num)\n",
    "            # Don't have a click, so we stay silent\n",
    "            elif measurements[i] == 0:\n",
    "                eve_message[i] = (None, 0)\n",
    "\n",
    "    return eve_message"
   ]
  },
  {
   "attachments": {},
   "cell_type": "markdown",
   "metadata": {},
   "source": [
    "## 1 B.i"
   ]
  },
  {
   "attachments": {},
   "cell_type": "markdown",
   "metadata": {},
   "source": [
    "Case where p2 = 0.2"
   ]
  },
  {
   "cell_type": "code",
   "execution_count": 201,
   "metadata": {},
   "outputs": [
    {
     "name": "stdout",
     "output_type": "stream",
     "text": [
      "Bob got click for photon 127 with basis V. Sent bit was 1.\n",
      "Inner product of Bob's basis and Alice's basis: [[0.70710678+0.j]]\n",
      "This measurement is correct.\n",
      "\n",
      "Bob got click for photon 261 with basis V. Sent bit was 1.\n",
      "Inner product of Bob's basis and Alice's basis: [[0.70710678+0.j]]\n",
      "This measurement is correct.\n",
      "\n",
      "Bob got click for photon 268 with basis V. Sent bit was 1.\n",
      "Inner product of Bob's basis and Alice's basis: [[0.70710678+0.j]]\n",
      "This measurement is correct.\n",
      "\n",
      "Bob got click for photon 356 with basis A. Sent bit was 0.\n",
      "Inner product of Bob's basis and Alice's basis: [[0.70710678+0.j]]\n",
      "This measurement is correct.\n",
      "\n",
      "Bob got click for photon 386 with basis V. Sent bit was 1.\n",
      "Inner product of Bob's basis and Alice's basis: [[0.70710678+0.j]]\n",
      "This measurement is correct.\n",
      "\n",
      "Bob got click for photon 512 with basis V. Sent bit was 1.\n",
      "Inner product of Bob's basis and Alice's basis: [[0.70710678+0.j]]\n",
      "This measurement is correct.\n",
      "\n",
      "Bob got click for photon 683 with basis V. Sent bit was 1.\n",
      "Inner product of Bob's basis and Alice's basis: [[0.70710678+0.j]]\n",
      "This measurement is correct.\n",
      "\n",
      "Bob got click for photon 722 with basis V. Sent bit was 1.\n",
      "Inner product of Bob's basis and Alice's basis: [[0.70710678+0.j]]\n",
      "This measurement is correct.\n",
      "\n",
      "Bob got click for photon 847 with basis A. Sent bit was 0.\n",
      "Inner product of Bob's basis and Alice's basis: [[0.70710678+0.j]]\n",
      "This measurement is correct.\n",
      "\n",
      "Bob got click for photon 888 with basis V. Sent bit was 1.\n",
      "Inner product of Bob's basis and Alice's basis: [[0.70710678+0.j]]\n",
      "This measurement is correct.\n",
      "\n",
      "\n",
      "Bob recieved 10 correct bits and 0 incorrect bits.\n",
      "Error rate: 1.0\n",
      "Bob's Efficiency: 0.1\n"
     ]
    }
   ],
   "source": [
    "N_p = 1000\n",
    "p_2 = 0.2\n",
    "efficiency = 0.1\n",
    "alice_basis = GetRandomBasis(N_p, [H,D])\n",
    "alice_message = AliceMessage(N_p, alice_basis, p_2)\n",
    "\n",
    "eve_basis = GetRandomBasis(N_p, [V,A])\n",
    "eve_message = Eavesdrop(N_p, alice_message, eve_basis)\n",
    "\n",
    "bob_basis = GetRandomBasis(N_p, [V,A])\n",
    "bob_measurements = BobReceiveMessage(N_p, eve_message, bob_basis, efficiency)\n",
    "correct_bits = GetCorrectBits(N_p, bob_measurements, bob_basis, alice_basis) "
   ]
  },
  {
   "attachments": {},
   "cell_type": "markdown",
   "metadata": {},
   "source": [
    "In this case, Eve has a probability of splitting greater than the efficiency. So she's able to sufficiently split the quantum state and intercept the message without messing with the efficiency of the message."
   ]
  },
  {
   "attachments": {},
   "cell_type": "markdown",
   "metadata": {},
   "source": [
    "## 1 B.ii"
   ]
  },
  {
   "attachments": {},
   "cell_type": "markdown",
   "metadata": {},
   "source": [
    "Case where p2=0.05"
   ]
  },
  {
   "cell_type": "code",
   "execution_count": 202,
   "metadata": {},
   "outputs": [
    {
     "name": "stdout",
     "output_type": "stream",
     "text": [
      "Bob got click for photon 205 with basis V. Sent bit was 1.\n",
      "Inner product of Bob's basis and Alice's basis: [[0.70710678+0.j]]\n",
      "This measurement is correct.\n",
      "\n",
      "Bob got click for photon 254 with basis V. Sent bit was 1.\n",
      "Inner product of Bob's basis and Alice's basis: [[0.70710678+0.j]]\n",
      "This measurement is correct.\n",
      "\n",
      "Bob got click for photon 430 with basis V. Sent bit was 1.\n",
      "Inner product of Bob's basis and Alice's basis: [[0.70710678+0.j]]\n",
      "This measurement is correct.\n",
      "\n",
      "Bob got click for photon 470 with basis A. Sent bit was 0.\n",
      "Inner product of Bob's basis and Alice's basis: [[0.70710678+0.j]]\n",
      "This measurement is correct.\n",
      "\n",
      "Bob got click for photon 491 with basis V. Sent bit was 1.\n",
      "Inner product of Bob's basis and Alice's basis: [[0.70710678+0.j]]\n",
      "This measurement is correct.\n",
      "\n",
      "Bob got click for photon 744 with basis A. Sent bit was 0.\n",
      "Inner product of Bob's basis and Alice's basis: [[0.70710678+0.j]]\n",
      "This measurement is correct.\n",
      "\n",
      "Bob got click for photon 976 with basis V. Sent bit was 1.\n",
      "Inner product of Bob's basis and Alice's basis: [[0.70710678+0.j]]\n",
      "This measurement is correct.\n",
      "\n",
      "\n",
      "Bob recieved 7 correct bits and 0 incorrect bits.\n",
      "Error rate: 1.0\n",
      "Bob's Efficiency: 0.07\n"
     ]
    }
   ],
   "source": [
    "N_p = 1000\n",
    "p_2 = 0.05\n",
    "efficiency = 0.1\n",
    "alice_basis = GetRandomBasis(N_p, [H,D])\n",
    "alice_message = AliceMessage(N_p, alice_basis, p_2)\n",
    "\n",
    "eve_basis = GetRandomBasis(N_p, [V,A])\n",
    "eve_message = Eavesdrop(N_p, alice_message, eve_basis)\n",
    "\n",
    "bob_basis = GetRandomBasis(N_p, [V,A])\n",
    "bob_measurements = BobReceiveMessage(N_p, eve_message, bob_basis, efficiency)\n",
    "correct_bits = GetCorrectBits(N_p, bob_measurements, bob_basis, alice_basis) "
   ]
  },
  {
   "attachments": {},
   "cell_type": "markdown",
   "metadata": {},
   "source": [
    "In this case, Eve does a worse job beause there's a higher probability that Alice is only sending a single photon. Therefore Eve can't split and has to remain silent more frequently. Thus, harming the efficiency of the message."
   ]
  },
  {
   "attachments": {},
   "cell_type": "markdown",
   "metadata": {},
   "source": [
    "## 2"
   ]
  },
  {
   "cell_type": "code",
   "execution_count": 235,
   "metadata": {},
   "outputs": [
    {
     "name": "stdout",
     "output_type": "stream",
     "text": [
      "Bob got click for photon 28 with basis V. Sent bit was 1.\n",
      "Inner product of Bob's basis and Alice's basis: [[0.70710678+0.j]]\n",
      "This measurement is correct.\n",
      "\n",
      "Bob got click for photon 50 with basis A. Sent bit was 0.\n",
      "Inner product of Bob's basis and Alice's basis: [[0.70710678+0.j]]\n",
      "This measurement is correct.\n",
      "\n",
      "Bob got click for photon 79 with basis A. Sent bit was 0.\n",
      "Inner product of Bob's basis and Alice's basis: [[0.70710678+0.j]]\n",
      "This measurement is correct.\n",
      "\n",
      "Bob got click for photon 143 with basis V. Sent bit was 1.\n",
      "Inner product of Bob's basis and Alice's basis: [[0.70710678+0.j]]\n",
      "This measurement is correct.\n",
      "\n",
      "Bob got click for photon 215 with basis V. Sent bit was 1.\n",
      "Inner product of Bob's basis and Alice's basis: [[0.70710678+0.j]]\n",
      "This measurement is correct.\n",
      "\n",
      "Bob got click for photon 223 with basis A. Sent bit was 0.\n",
      "Inner product of Bob's basis and Alice's basis: [[0.70710678+0.j]]\n",
      "This measurement is correct.\n",
      "\n",
      "Bob got click for photon 361 with basis V. Sent bit was 1.\n",
      "Inner product of Bob's basis and Alice's basis: [[0.70710678+0.j]]\n",
      "This measurement is correct.\n",
      "\n",
      "Bob got click for photon 374 with basis A. Sent bit was 0.\n",
      "Inner product of Bob's basis and Alice's basis: [[0.70710678+0.j]]\n",
      "This measurement is correct.\n",
      "\n",
      "Bob got click for photon 565 with basis V. Sent bit was 1.\n",
      "Inner product of Bob's basis and Alice's basis: [[0.70710678+0.j]]\n",
      "This measurement is correct.\n",
      "\n",
      "Bob got click for photon 686 with basis V. Sent bit was 1.\n",
      "Inner product of Bob's basis and Alice's basis: [[0.70710678+0.j]]\n",
      "This measurement is correct.\n",
      "\n",
      "Bob got click for photon 694 with basis A. Sent bit was 0.\n",
      "Inner product of Bob's basis and Alice's basis: [[0.70710678+0.j]]\n",
      "This measurement is correct.\n",
      "\n",
      "Bob got click for photon 998 with basis A. Sent bit was 0.\n",
      "Inner product of Bob's basis and Alice's basis: [[0.70710678+0.j]]\n",
      "This measurement is correct.\n",
      "\n",
      "\n",
      "Bob recieved 12 correct bits and 0 incorrect bits.\n",
      "Error rate: 1.0\n",
      "Bob's Efficiency: 0.12)\n",
      "Number of decoys: 333\n",
      "Decoy Efficiency: 0.9990000000000001\n"
     ]
    }
   ],
   "source": [
    "N_p = 1000\n",
    "p_2 = 0.05\n",
    "efficiency = 0.1\n",
    "decoy_protocol = DecoyProtocol(10, 3)\n",
    "alice_basis = GetRandomBasis(N_p, [H,D])\n",
    "alice_message = AliceMessage(N_p, alice_basis, p_2, decoy_protocol)\n",
    "\n",
    "eve_basis = GetRandomBasis(N_p, [V,A])\n",
    "eve_message = Eavesdrop(N_p, alice_message, eve_basis)\n",
    "\n",
    "bob_basis = GetRandomBasis(N_p, [V,A])\n",
    "bob_measurements = BobReceiveMessage(N_p, alice_message, bob_basis, efficiency, decoy_protocol)\n",
    "correct_bits = GetCorrectBits(N_p, bob_measurements, bob_basis, alice_basis, decoy_protocol) "
   ]
  },
  {
   "attachments": {},
   "cell_type": "markdown",
   "metadata": {},
   "source": [
    "Now, we've added in a decoy protocol to send out 10 photon pulses every 3 iterations. This will allow bob to compare efficiencies between the normal incoming message photons and the decoy - allowing him to filter out wether or not there was a spy messing with his efficiency"
   ]
  },
  {
   "cell_type": "markdown",
   "metadata": {},
   "source": []
  }
 ],
 "metadata": {
  "kernelspec": {
   "display_name": "Python 3",
   "language": "python",
   "name": "python3"
  },
  "language_info": {
   "codemirror_mode": {
    "name": "ipython",
    "version": 3
   },
   "file_extension": ".py",
   "mimetype": "text/x-python",
   "name": "python",
   "nbconvert_exporter": "python",
   "pygments_lexer": "ipython3",
   "version": "3.10.9"
  },
  "orig_nbformat": 4,
  "vscode": {
   "interpreter": {
    "hash": "e7370f93d1d0cde622a1f8e1c04877d8463912d04d973331ad4851f04de6915a"
   }
  }
 },
 "nbformat": 4,
 "nbformat_minor": 2
}
